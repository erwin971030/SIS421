{
  "cells": [
    {
      "cell_type": "markdown",
      "metadata": {
        "id": "Vm1N9govQ30U"
      },
      "source": [
        "[![Open In Colab](https://colab.research.google.com/assets/colab-badge.svg)](https://colab.research.google.com/github/sensioai/blog/blob/master/036_rnn_mejoras/rnn_mejoras.ipynb)"
      ]
    },
    {
      "cell_type": "code",
      "execution_count": null,
      "metadata": {
        "ExecuteTime": {
          "end_time": "2020-08-27T13:26:52.650646Z",
          "start_time": "2020-08-27T13:26:52.619757Z"
        },
        "id": "4JCVfY80Q30a"
      },
      "outputs": [],
      "source": [
        "import numpy as np\n",
        "\n",
        "def generate_time_series(batch_size, n_steps):\n",
        "    freq1, freq2, offsets1, offsets2 = np.random.rand(4, batch_size, 1)\n",
        "    time = np.linspace(0, 1, n_steps)\n",
        "    series = 0.5 * np.sin((time - offsets1) * (freq1 * 10 + 10))  #   wave 1\n",
        "    series += 0.2 * np.sin((time - offsets2) * (freq2 * 20 + 20)) # + wave 2\n",
        "    series += 0.1 * (np.random.rand(batch_size, n_steps) - 0.5)   # + noise\n",
        "    return series[..., np.newaxis].astype(np.float32)\n",
        "\n",
        "n_steps = 50\n",
        "X_train = series[:7000, :n_steps]\n",
        "X_valid = series[7000:9000, :n_steps]\n",
        "X_test = series[9000:, :n_steps]\n",
        "Y = np.empty((10000, n_steps, 10), dtype=np.float32)\n",
        "for step_ahead in range(1, 10 + 1):\n",
        "    Y[..., step_ahead - 1] = series[..., step_ahead:step_ahead + n_steps, 0]\n",
        "Y_train = Y[:7000]\n",
        "Y_valid = Y[7000:9000]\n",
        "Y_test = Y[9000:]"
      ]
    },
    {
      "cell_type": "code",
      "execution_count": null,
      "metadata": {
        "ExecuteTime": {
          "end_time": "2020-08-27T13:26:27.804182Z",
          "start_time": "2020-08-27T13:26:27.781163Z"
        },
        "id": "lN5-THx9Q30c"
      },
      "outputs": [],
      "source": [
        "import matplotlib.pyplot as plt \n",
        "\n",
        "def plot_series(series, y=None, y_pred=None, y_pred_std=None, x_label=\"$t$\", y_label=\"$x$\"):\n",
        "  r, c = 3, 5\n",
        "  fig, axes = plt.subplots(nrows=r, ncols=c, sharey=True, sharex=True, figsize=(20, 10))\n",
        "  for row in range(r):\n",
        "    for col in range(c):\n",
        "        plt.sca(axes[row][col])\n",
        "        ix = col + row*c\n",
        "        plt.plot(series[ix, :], \".-\")\n",
        "        if y is not None:\n",
        "            plt.plot(range(len(series[ix, :]), len(series[ix, :])+len(y[ix])), y[ix], \"bx\", markersize=10)\n",
        "        if y_pred is not None:\n",
        "            plt.plot(range(len(series[ix, :]), len(series[ix, :])+len(y_pred[ix])), y_pred[ix], \"ro\")\n",
        "        if y_pred_std is not None:\n",
        "            plt.plot(range(len(series[ix, :]), len(series[ix, :])+len(y_pred[ix])), y_pred[ix] + y_pred_std[ix])\n",
        "            plt.plot(range(len(series[ix, :]), len(series[ix, :])+len(y_pred[ix])), y_pred[ix] - y_pred_std[ix])\n",
        "        plt.grid(True)\n",
        "        plt.hlines(0, 0, 100, linewidth=1)\n",
        "        plt.axis([0, len(series[ix, :])+len(y[ix]), -1, 1])\n",
        "        if x_label and row == r - 1:\n",
        "          plt.xlabel(x_label, fontsize=16)\n",
        "        if y_label and col == 0:\n",
        "          plt.ylabel(y_label, fontsize=16, rotation=0)\n",
        "  plt.show()"
      ]
    },
    {
      "cell_type": "code",
      "execution_count": null,
      "metadata": {
        "ExecuteTime": {
          "end_time": "2020-08-27T13:26:58.360083Z",
          "start_time": "2020-08-27T13:26:58.344090Z"
        },
        "id": "84DJ9_dCQ30d"
      },
      "outputs": [],
      "source": [
        "import torch\n",
        "from torch.utils.data import Dataset, DataLoader\n",
        "\n",
        "class TimeSeriesDataset(Dataset):\n",
        "  def __init__(self, X, y=None, train=True):\n",
        "    self.X = X\n",
        "    self.y = y\n",
        "    self.train = train\n",
        "\n",
        "  def __len__(self):\n",
        "    return len(self.X)\n",
        "\n",
        "  def __getitem__(self, ix):\n",
        "    if self.train:\n",
        "      return torch.from_numpy(self.X[ix]), torch.from_numpy(self.y[ix])\n",
        "    return torch.from_numpy(self.X[ix])\n",
        "\n",
        "dataset = {\n",
        "    'train': TimeSeriesDataset(X_train, Y_train),\n",
        "    'eval': TimeSeriesDataset(X_valid, Y_valid),\n",
        "    'test': TimeSeriesDataset(X_test, Y_test, train=False)\n",
        "}\n",
        "\n",
        "dataloader = {\n",
        "    'train': DataLoader(dataset['train'], shuffle=True, batch_size=64),\n",
        "    'eval': DataLoader(dataset['eval'], shuffle=False, batch_size=64),\n",
        "    'test': DataLoader(dataset['test'], shuffle=False, batch_size=64)\n",
        "}"
      ]
    },
    {
      "cell_type": "code",
      "execution_count": null,
      "metadata": {
        "ExecuteTime": {
          "end_time": "2020-08-27T13:27:25.057186Z",
          "start_time": "2020-08-27T13:27:25.012319Z"
        },
        "code_folding": [
          3,
          35
        ],
        "id": "GvrDKG6mQ30e"
      },
      "outputs": [],
      "source": [
        "from tqdm import tqdm\n",
        "device = \"cuda\" if torch.cuda.is_available() else \"cpu\"\n",
        "\n",
        "def fit(model, dataloader, epochs=10):\n",
        "    model.to(device)\n",
        "    optimizer = torch.optim.Adam(model.parameters(), lr=1e-3)\n",
        "    criterion = torch.nn.MSELoss()\n",
        "    bar = tqdm(range(1, epochs+1))\n",
        "    for epoch in bar:\n",
        "        model.train()\n",
        "        train_loss = []\n",
        "        train_loss2 = []\n",
        "        for batch in dataloader['train']:\n",
        "            X, y = batch\n",
        "            X, y = X.to(device), y.to(device)\n",
        "            optimizer.zero_grad()\n",
        "            y_hat = model(X)\n",
        "            loss = criterion(y_hat, y)\n",
        "            loss.backward()\n",
        "            optimizer.step()\n",
        "            train_loss.append(loss.item())\n",
        "            train_loss2.append((y[:,-1] - y_hat[:,-1]).pow(2).mean().item())\n",
        "        model.eval()\n",
        "        eval_loss = []\n",
        "        eval_loss2 = []\n",
        "        with torch.no_grad():\n",
        "            for batch in dataloader['eval']:\n",
        "                X, y = batch\n",
        "                X, y = X.to(device), y.to(device)\n",
        "                y_hat = model(X)\n",
        "                loss = criterion(y_hat, y)\n",
        "                eval_loss.append(loss.item())\n",
        "                eval_loss2.append((y[:,-1] - y_hat[:,-1]).pow(2).mean().item())\n",
        "        bar.set_description(f\"loss {np.mean(train_loss):.5f} loss_last_step {np.mean(train_loss2):.5f} val_loss {np.mean(eval_loss):.5f} val_loss_last_step {np.mean(eval_loss2):.5f}\")\n",
        "\n",
        "def predict(model, dataloader):\n",
        "    model.eval() \n",
        "    with torch.no_grad():\n",
        "        preds = torch.tensor([]).to(device)\n",
        "        for batch in dataloader:\n",
        "            X = batch\n",
        "            X = X.to(device)\n",
        "            pred = model(X)\n",
        "            preds = torch.cat([preds, pred])\n",
        "        return preds"
      ]
    },
    {
      "cell_type": "code",
      "execution_count": null,
      "metadata": {
        "ExecuteTime": {
          "end_time": "2020-08-27T13:31:34.950472Z",
          "start_time": "2020-08-27T13:31:34.932741Z"
        },
        "id": "aq-bjEpQQ30h"
      },
      "outputs": [],
      "source": [
        "class DeepRNN(torch.nn.Module):\n",
        "  def __init__(self, n_out=10):\n",
        "    super().__init__()\n",
        "    self.rnn = torch.nn.RNN(input_size=1, hidden_size=20, num_layers=2, batch_first=True)\n",
        "    self.fc = torch.nn.Linear(20, n_out)\n",
        "\n",
        "  def forward(self, x):\n",
        "    x, h = self.rnn(x) \n",
        "    # [ Batch, time steps, features ] --> [ Batch x time steps, features ]\n",
        "    x_reshaped = x.contiguous().view(-1, x.size(-1))\n",
        "    y = self.fc(x_reshaped)\n",
        "    # [ Batch x time steps, features ] --> [ Batch, time steps, features ]\n",
        "    y = y.contiguous().view(x.size(0), -1, y.size(-1))\n",
        "    return y"
      ]
    },
    {
      "cell_type": "code",
      "execution_count": null,
      "metadata": {
        "ExecuteTime": {
          "end_time": "2020-08-27T13:31:40.532384Z",
          "start_time": "2020-08-27T13:31:35.067784Z"
        },
        "id": "Re3IvE1HQ30i",
        "outputId": "dc2990a8-4d1d-4258-fdef-3e88f719ef67"
      },
      "outputs": [
        {
          "name": "stderr",
          "output_type": "stream",
          "text": [
            "loss 0.03683 loss_last_step 0.02208 val_loss 0.03707 val_loss_last_step 0.02465: 100%|█| 10/1\n"
          ]
        }
      ],
      "source": [
        "rnn = DeepRNN()\n",
        "fit(rnn, dataloader)"
      ]
    }
  ],
  "metadata": {
    "kernelspec": {
      "display_name": "Python 3",
      "language": "python",
      "name": "python3"
    },
    "language_info": {
      "codemirror_mode": {
        "name": "ipython",
        "version": 3
      },
      "file_extension": ".py",
      "mimetype": "text/x-python",
      "name": "python",
      "nbconvert_exporter": "python",
      "pygments_lexer": "ipython3",
      "version": "3.7.6"
    },
    "toc": {
      "base_numbering": 1,
      "nav_menu": {},
      "number_sections": true,
      "sideBar": true,
      "skip_h1_title": false,
      "title_cell": "Table of Contents",
      "title_sidebar": "Contents",
      "toc_cell": false,
      "toc_position": {
        "height": "calc(100% - 180px)",
        "left": "10px",
        "top": "150px",
        "width": "233.594px"
      },
      "toc_section_display": true,
      "toc_window_display": false
    },
    "colab": {
      "name": "rnn_mejoras.ipynb",
      "provenance": []
    }
  },
  "nbformat": 4,
  "nbformat_minor": 0
}